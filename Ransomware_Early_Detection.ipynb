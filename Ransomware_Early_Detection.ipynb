{
  "nbformat": 4,
  "nbformat_minor": 0,
  "metadata": {
    "colab": {
      "name": "Ransomware Early Detection.ipynb",
      "provenance": [],
      "collapsed_sections": []
    },
    "kernelspec": {
      "name": "python3",
      "display_name": "Python 3"
    },
    "language_info": {
      "name": "python"
    }
  },
  "cells": [
    {
      "cell_type": "markdown",
      "source": [
        "# Ransomware Early Detection based on pre-attack activities\n",
        "This notebook contains all the models the authors have developed."
      ],
      "metadata": {
        "id": "OpHXVN69rZjE"
      }
    },
    {
      "cell_type": "markdown",
      "source": [
        "First of all we have to mount the Google Drive volume for dataset loading."
      ],
      "metadata": {
        "id": "XNTWGpb5r7h2"
      }
    },
    {
      "cell_type": "code",
      "execution_count": 1,
      "metadata": {
        "colab": {
          "base_uri": "https://localhost:8080/"
        },
        "id": "XO-ph7KLkaRi",
        "outputId": "4cd8c132-0783-4bb7-efff-7d0f1a842a49"
      },
      "outputs": [
        {
          "output_type": "stream",
          "name": "stdout",
          "text": [
            "Mounted at /content/drive/\n"
          ]
        }
      ],
      "source": [
        "from google.colab import drive\n",
        "drive.mount('/content/drive/', force_remount=True)"
      ]
    },
    {
      "cell_type": "code",
      "source": [
        "import warnings\n",
        "warnings.simplefilter(action='ignore', category=FutureWarning)\n",
        "\n",
        "#ML auxiliary libraries\n",
        "import pandas as pd\n",
        "import numpy as np\n",
        "import matplotlib.pyplot as plt\n",
        "import seaborn as sn\n",
        "\n",
        "# Classifiers\n",
        "from sklearn.naive_bayes import BernoulliNB\n",
        "from sklearn.neighbors import KNeighborsClassifier\n",
        "from sklearn.ensemble import RandomForestClassifier\n",
        "\n",
        "# Keras\n",
        "import keras.backend as K\n",
        "from keras.models import Sequential\n",
        "from keras.layers import Dense, Dropout\n",
        "from keras.utils.np_utils import to_categorical\n",
        "from keras.metrics import TopKCategoricalAccuracy\n",
        "\n",
        "#SkLearn auxiliary libraries\n",
        "from sklearn.model_selection import train_test_split, cross_val_score\n",
        "from sklearn.metrics import classification_report, confusion_matrix, accuracy_score, ConfusionMatrixDisplay, f1_score, precision_score, recall_score, make_scorer"
      ],
      "metadata": {
        "id": "akznZb-Bkjzo"
      },
      "execution_count": 10,
      "outputs": []
    },
    {
      "cell_type": "markdown",
      "source": [
        "We import the dataset and we reduce the number of samples per family (max. 450 items)."
      ],
      "metadata": {
        "id": "Up7MFFtSsCVi"
      }
    },
    {
      "cell_type": "code",
      "source": [
        "dataset = pd.read_csv('/content/drive/MyDrive/dataset_cleaned_wo_blacklisted_families.csv')\n",
        "dataset = dataset.groupby('Family').head(450)\n",
        "family_count = dataset['Family'].sort_values()\n",
        "print(family_count.value_counts())"
      ],
      "metadata": {
        "id": "DkoUm81ck743",
        "colab": {
          "base_uri": "https://localhost:8080/"
        },
        "outputId": "c7d0f61a-c06b-4835-ad09-414538b10edc"
      },
      "execution_count": 3,
      "outputs": [
        {
          "output_type": "stream",
          "name": "stdout",
          "text": [
            "2     450\n",
            "5     450\n",
            "14    450\n",
            "15    450\n",
            "17    450\n",
            "23    446\n",
            "9     443\n",
            "0     432\n",
            "6     377\n",
            "3     359\n",
            "13    331\n",
            "8     295\n",
            "7     266\n",
            "Name: Family, dtype: int64\n"
          ]
        }
      ]
    },
    {
      "cell_type": "markdown",
      "source": [
        "## Binary classification\n",
        "In this section we build the models for binary classification. The models we have chosen are:\n",
        "- Bernoulli Naive Bayes\n",
        "- K-Nearest Neighbors\n",
        "- Random Forest"
      ],
      "metadata": {
        "id": "rBIC9uCWsMRv"
      }
    },
    {
      "cell_type": "markdown",
      "source": [
        "### Dataset preparation\n",
        "First of all we transform the dataset to a two-class one by replacing all families identifiers with *Ransomware* or *Benign* classes."
      ],
      "metadata": {
        "id": "ep9u44_PsWl1"
      }
    },
    {
      "cell_type": "code",
      "source": [
        "binary_class_dataset = dataset.copy(deep=True)\n",
        "binary_class_dataset['Family'] = np.where(binary_class_dataset.Family <= 22, 'Ransomware', 'Benign')"
      ],
      "metadata": {
        "id": "0NUQnQg6nIVX"
      },
      "execution_count": 4,
      "outputs": []
    },
    {
      "cell_type": "code",
      "source": [
        "binary_class_dataset.shape"
      ],
      "metadata": {
        "colab": {
          "base_uri": "https://localhost:8080/"
        },
        "id": "4Su1T5WAoOg3",
        "outputId": "f2fc08f5-7610-456a-e090-c24bf3bb2d72"
      },
      "execution_count": 5,
      "outputs": [
        {
          "output_type": "execute_result",
          "data": {
            "text/plain": [
              "(5199, 40)"
            ]
          },
          "metadata": {},
          "execution_count": 5
        }
      ]
    },
    {
      "cell_type": "markdown",
      "source": [
        "We then split the labels from the features in order to run the classification tasks."
      ],
      "metadata": {
        "id": "bOCtoySruCWQ"
      }
    },
    {
      "cell_type": "code",
      "source": [
        "data = binary_class_dataset.to_numpy()\n",
        "x = data[:, :-1].astype(str)\n",
        "y = data[:, -1].astype(str)"
      ],
      "metadata": {
        "id": "NrcDBsS_ocp8"
      },
      "execution_count": 6,
      "outputs": []
    },
    {
      "cell_type": "markdown",
      "source": [
        "### ML Models\n",
        "In this section we train and validate the three models which have been already mentioned above for what concerns binary classification"
      ],
      "metadata": {
        "id": "V96qNns2scXL"
      }
    },
    {
      "cell_type": "markdown",
      "source": [
        "#### Bernoulli Naive Bayes"
      ],
      "metadata": {
        "id": "txvyYDALsemX"
      }
    },
    {
      "cell_type": "code",
      "source": [
        "bern_na_bay = BernoulliNB()\n",
        "\n",
        "scores = cross_val_score(bern_na_bay, x, y, cv=10)\n",
        "print(scores.mean())\n",
        "\n",
        "x_train, x_test, y_train, y_test = train_test_split(x, y, test_size=0.2, random_state=75)\n",
        "bern_na_bay.fit(x_train, y_train)\n",
        "\n",
        "predict=bern_na_bay.predict(x_test) \n",
        "\n",
        "print(classification_report(predict, y_test))"
      ],
      "metadata": {
        "id": "dng-Le5Qoyby",
        "colab": {
          "base_uri": "https://localhost:8080/"
        },
        "outputId": "e29612ba-7f0f-4854-f1f2-13a37cf83292"
      },
      "execution_count": 32,
      "outputs": [
        {
          "output_type": "stream",
          "name": "stdout",
          "text": [
            "0.9924929598340004\n",
            "              precision    recall  f1-score   support\n",
            "\n",
            "      Benign       0.94      1.00      0.97        95\n",
            "  Ransomware       1.00      0.99      1.00       945\n",
            "\n",
            "    accuracy                           0.99      1040\n",
            "   macro avg       0.97      1.00      0.98      1040\n",
            "weighted avg       0.99      0.99      0.99      1040\n",
            "\n"
          ]
        }
      ]
    },
    {
      "cell_type": "markdown",
      "source": [
        "#### K-Nearest Neighbors"
      ],
      "metadata": {
        "id": "DFBAh0pMsg4N"
      }
    },
    {
      "cell_type": "code",
      "source": [
        "knn = KNeighborsClassifier(n_neighbors=3)\n",
        "\n",
        "scores = cross_val_score(knn, x, y, cv=10)\n",
        "print(scores.mean())\n",
        "\n",
        "x_train, x_test, y_train, y_test = train_test_split(x, y, test_size=0.2, random_state=75)\n",
        "knn.fit(x_train, y_train)\n",
        "\n",
        "predict=knn.predict(x_test) \n",
        "\n",
        "print(classification_report(predict, y_test))"
      ],
      "metadata": {
        "colab": {
          "base_uri": "https://localhost:8080/"
        },
        "id": "K8ZxnGh9p0PO",
        "outputId": "627395e8-4eb8-44c8-aaad-4e46f2dbede6"
      },
      "execution_count": 35,
      "outputs": [
        {
          "output_type": "stream",
          "name": "stdout",
          "text": [
            "0.9915314213724619\n",
            "              precision    recall  f1-score   support\n",
            "\n",
            "      Benign       1.00      0.99      1.00       102\n",
            "  Ransomware       1.00      1.00      1.00       938\n",
            "\n",
            "    accuracy                           1.00      1040\n",
            "   macro avg       1.00      1.00      1.00      1040\n",
            "weighted avg       1.00      1.00      1.00      1040\n",
            "\n"
          ]
        }
      ]
    },
    {
      "cell_type": "markdown",
      "source": [
        "#### Random Forest"
      ],
      "metadata": {
        "id": "MWWmhB3jsj34"
      }
    },
    {
      "cell_type": "code",
      "source": [
        "rand_for_classifier=RandomForestClassifier()\n",
        "\n",
        "scores = cross_val_score(rand_for_classifier, x, y, cv=10)\n",
        "print(scores.mean())\n",
        "\n",
        "x_train, x_test, y_train, y_test = train_test_split(x, y, test_size=0.2, random_state=75)\n",
        "rand_for_classifier.fit(x_train, y_train)\n",
        "\n",
        "predict=rand_for_classifier.predict(x_test) \n",
        "\n",
        "print(classification_report(predict, y_test))"
      ],
      "metadata": {
        "colab": {
          "base_uri": "https://localhost:8080/"
        },
        "id": "z0efW3nlwYxk",
        "outputId": "75f53541-0d14-44dd-faa9-fc0b51811f42"
      },
      "execution_count": 37,
      "outputs": [
        {
          "output_type": "stream",
          "name": "stdout",
          "text": [
            "0.9990377204683563\n",
            "              precision    recall  f1-score   support\n",
            "\n",
            "      Benign       1.00      1.00      1.00       101\n",
            "  Ransomware       1.00      1.00      1.00       939\n",
            "\n",
            "    accuracy                           1.00      1040\n",
            "   macro avg       1.00      1.00      1.00      1040\n",
            "weighted avg       1.00      1.00      1.00      1040\n",
            "\n"
          ]
        }
      ]
    },
    {
      "cell_type": "markdown",
      "source": [
        "## Multi-label classification"
      ],
      "metadata": {
        "id": "A721dsqhsQ4m"
      }
    },
    {
      "cell_type": "markdown",
      "source": [
        "### Dataset preparation"
      ],
      "metadata": {
        "id": "4LavcEdq3iUx"
      }
    },
    {
      "cell_type": "markdown",
      "source": [
        "We then split the labels from the features in order to run the classification tasks. We also remove the first row with column heading."
      ],
      "metadata": {
        "id": "dWScQBikz6Hv"
      }
    },
    {
      "cell_type": "code",
      "source": [
        "dataset = dataset.iloc[1: , :]\n",
        "data = dataset.to_numpy()\n",
        "x = data[:, :-1].astype(float)\n",
        "y = data[:, -1].astype(float)"
      ],
      "metadata": {
        "id": "q3ajmAEqulqZ"
      },
      "execution_count": 38,
      "outputs": []
    },
    {
      "cell_type": "markdown",
      "source": [
        "### ML model\n",
        "For multilabel classification we have chosen to use a Convolutional Neural Network"
      ],
      "metadata": {
        "id": "mLRKmkPk3nEi"
      }
    },
    {
      "cell_type": "code",
      "source": [
        "# Model creation and training\n",
        "y_cat = to_categorical(y)\n",
        "x_train, x_test, y_train, y_test = train_test_split(x, y_cat, test_size=0.2)\n",
        "model = Sequential()\n",
        "model.add(Dense(512, input_dim=39, activation = \"relu\"))\n",
        "model.add(Dense(256, activation = \"relu\"))\n",
        "model.add(Dense(128, activation = \"relu\"))\n",
        "model.add(Dropout(0.2))\n",
        "model.add(Dense(24, activation = \"softmax\"))\n",
        "model.compile(loss='categorical_crossentropy', optimizer='adam', metrics=['accuracy', TopKCategoricalAccuracy(k=2)])\n",
        "model.summary()\n",
        "model.fit(x_train, y_train, verbose=1, epochs=100, batch_size=30)\n",
        "\n",
        "predict_x=model.predict(x_test) \n",
        "y_pred_class=np.argmax(predict_x,axis=1)\n",
        "\n",
        "y_pred = model.predict(x_test)\n",
        "y_test_class = np.argmax(y_test, axis=1)\n",
        "print(confusion_matrix(y_test_class, y_pred_class))\n",
        "\n",
        "print(classification_report(y_test_class, y_pred_class))"
      ],
      "metadata": {
        "id": "gWkh0-0Fuhr8",
        "colab": {
          "base_uri": "https://localhost:8080/"
        },
        "outputId": "b66f67d9-6f46-469f-8a56-5cf957f35603"
      },
      "execution_count": 39,
      "outputs": [
        {
          "output_type": "stream",
          "name": "stdout",
          "text": [
            "Model: \"sequential\"\n",
            "_________________________________________________________________\n",
            " Layer (type)                Output Shape              Param #   \n",
            "=================================================================\n",
            " dense (Dense)               (None, 512)               20480     \n",
            "                                                                 \n",
            " dense_1 (Dense)             (None, 256)               131328    \n",
            "                                                                 \n",
            " dense_2 (Dense)             (None, 128)               32896     \n",
            "                                                                 \n",
            " dropout (Dropout)           (None, 128)               0         \n",
            "                                                                 \n",
            " dense_3 (Dense)             (None, 24)                3096      \n",
            "                                                                 \n",
            "=================================================================\n",
            "Total params: 187,800\n",
            "Trainable params: 187,800\n",
            "Non-trainable params: 0\n",
            "_________________________________________________________________\n",
            "Epoch 1/100\n",
            "139/139 [==============================] - 3s 5ms/step - loss: 1.5335 - accuracy: 0.5370 - top_k_categorical_accuracy: 0.6506\n",
            "Epoch 2/100\n",
            "139/139 [==============================] - 1s 5ms/step - loss: 0.9388 - accuracy: 0.7121 - top_k_categorical_accuracy: 0.7977\n",
            "Epoch 3/100\n",
            "139/139 [==============================] - 1s 5ms/step - loss: 0.8176 - accuracy: 0.7419 - top_k_categorical_accuracy: 0.8280\n",
            "Epoch 4/100\n",
            "139/139 [==============================] - 1s 5ms/step - loss: 0.7652 - accuracy: 0.7571 - top_k_categorical_accuracy: 0.8470\n",
            "Epoch 5/100\n",
            "139/139 [==============================] - 1s 4ms/step - loss: 0.7147 - accuracy: 0.7665 - top_k_categorical_accuracy: 0.8543\n",
            "Epoch 6/100\n",
            "139/139 [==============================] - 1s 6ms/step - loss: 0.6949 - accuracy: 0.7691 - top_k_categorical_accuracy: 0.8603\n",
            "Epoch 7/100\n",
            "139/139 [==============================] - 1s 4ms/step - loss: 0.6589 - accuracy: 0.7747 - top_k_categorical_accuracy: 0.8682\n",
            "Epoch 8/100\n",
            "139/139 [==============================] - 1s 4ms/step - loss: 0.6448 - accuracy: 0.7785 - top_k_categorical_accuracy: 0.8663\n",
            "Epoch 9/100\n",
            "139/139 [==============================] - 1s 5ms/step - loss: 0.6322 - accuracy: 0.7857 - top_k_categorical_accuracy: 0.8819\n",
            "Epoch 10/100\n",
            "139/139 [==============================] - 1s 5ms/step - loss: 0.6121 - accuracy: 0.7886 - top_k_categorical_accuracy: 0.8812\n",
            "Epoch 11/100\n",
            "139/139 [==============================] - 1s 5ms/step - loss: 0.5963 - accuracy: 0.7920 - top_k_categorical_accuracy: 0.8903\n",
            "Epoch 12/100\n",
            "139/139 [==============================] - 1s 5ms/step - loss: 0.5878 - accuracy: 0.7992 - top_k_categorical_accuracy: 0.8867\n",
            "Epoch 13/100\n",
            "139/139 [==============================] - 1s 4ms/step - loss: 0.5784 - accuracy: 0.7997 - top_k_categorical_accuracy: 0.8923\n",
            "Epoch 14/100\n",
            "139/139 [==============================] - 1s 5ms/step - loss: 0.5718 - accuracy: 0.8042 - top_k_categorical_accuracy: 0.8913\n",
            "Epoch 15/100\n",
            "139/139 [==============================] - 1s 6ms/step - loss: 0.5654 - accuracy: 0.8006 - top_k_categorical_accuracy: 0.8947\n",
            "Epoch 16/100\n",
            "139/139 [==============================] - 1s 5ms/step - loss: 0.5604 - accuracy: 0.8018 - top_k_categorical_accuracy: 0.8954\n",
            "Epoch 17/100\n",
            "139/139 [==============================] - 1s 5ms/step - loss: 0.5615 - accuracy: 0.8028 - top_k_categorical_accuracy: 0.8937\n",
            "Epoch 18/100\n",
            "139/139 [==============================] - 1s 5ms/step - loss: 0.5518 - accuracy: 0.8030 - top_k_categorical_accuracy: 0.8971\n",
            "Epoch 19/100\n",
            "139/139 [==============================] - 1s 5ms/step - loss: 0.5528 - accuracy: 0.8098 - top_k_categorical_accuracy: 0.8959\n",
            "Epoch 20/100\n",
            "139/139 [==============================] - 1s 5ms/step - loss: 0.5470 - accuracy: 0.8054 - top_k_categorical_accuracy: 0.8915\n",
            "Epoch 21/100\n",
            "139/139 [==============================] - 1s 5ms/step - loss: 0.5451 - accuracy: 0.8081 - top_k_categorical_accuracy: 0.8973\n",
            "Epoch 22/100\n",
            "139/139 [==============================] - 1s 5ms/step - loss: 0.5411 - accuracy: 0.8028 - top_k_categorical_accuracy: 0.8971\n",
            "Epoch 23/100\n",
            "139/139 [==============================] - 1s 5ms/step - loss: 0.5396 - accuracy: 0.8107 - top_k_categorical_accuracy: 0.8959\n",
            "Epoch 24/100\n",
            "139/139 [==============================] - 1s 5ms/step - loss: 0.5314 - accuracy: 0.8163 - top_k_categorical_accuracy: 0.8997\n",
            "Epoch 25/100\n",
            "139/139 [==============================] - 1s 5ms/step - loss: 0.5324 - accuracy: 0.8110 - top_k_categorical_accuracy: 0.9012\n",
            "Epoch 26/100\n",
            "139/139 [==============================] - 1s 4ms/step - loss: 0.5325 - accuracy: 0.8090 - top_k_categorical_accuracy: 0.8980\n",
            "Epoch 27/100\n",
            "139/139 [==============================] - 1s 5ms/step - loss: 0.5237 - accuracy: 0.8143 - top_k_categorical_accuracy: 0.9004\n",
            "Epoch 28/100\n",
            "139/139 [==============================] - 1s 5ms/step - loss: 0.5229 - accuracy: 0.8124 - top_k_categorical_accuracy: 0.9019\n",
            "Epoch 29/100\n",
            "139/139 [==============================] - 1s 4ms/step - loss: 0.5196 - accuracy: 0.8160 - top_k_categorical_accuracy: 0.9040\n",
            "Epoch 30/100\n",
            "139/139 [==============================] - 1s 5ms/step - loss: 0.5138 - accuracy: 0.8127 - top_k_categorical_accuracy: 0.9000\n",
            "Epoch 31/100\n",
            "139/139 [==============================] - 1s 5ms/step - loss: 0.5122 - accuracy: 0.8148 - top_k_categorical_accuracy: 0.9002\n",
            "Epoch 32/100\n",
            "139/139 [==============================] - 1s 5ms/step - loss: 0.5159 - accuracy: 0.8102 - top_k_categorical_accuracy: 0.9038\n",
            "Epoch 33/100\n",
            "139/139 [==============================] - 1s 5ms/step - loss: 0.5134 - accuracy: 0.8110 - top_k_categorical_accuracy: 0.9038\n",
            "Epoch 34/100\n",
            "139/139 [==============================] - 1s 5ms/step - loss: 0.5160 - accuracy: 0.8119 - top_k_categorical_accuracy: 0.9031\n",
            "Epoch 35/100\n",
            "139/139 [==============================] - 1s 5ms/step - loss: 0.5155 - accuracy: 0.8134 - top_k_categorical_accuracy: 0.9043\n",
            "Epoch 36/100\n",
            "139/139 [==============================] - 1s 5ms/step - loss: 0.5122 - accuracy: 0.8131 - top_k_categorical_accuracy: 0.9021\n",
            "Epoch 37/100\n",
            "139/139 [==============================] - 1s 5ms/step - loss: 0.5059 - accuracy: 0.8151 - top_k_categorical_accuracy: 0.9033\n",
            "Epoch 38/100\n",
            "139/139 [==============================] - 1s 5ms/step - loss: 0.5129 - accuracy: 0.8127 - top_k_categorical_accuracy: 0.9014\n",
            "Epoch 39/100\n",
            "139/139 [==============================] - 1s 5ms/step - loss: 0.5077 - accuracy: 0.8129 - top_k_categorical_accuracy: 0.9055\n",
            "Epoch 40/100\n",
            "139/139 [==============================] - 1s 5ms/step - loss: 0.5048 - accuracy: 0.8155 - top_k_categorical_accuracy: 0.9062\n",
            "Epoch 41/100\n",
            "139/139 [==============================] - 1s 4ms/step - loss: 0.5039 - accuracy: 0.8155 - top_k_categorical_accuracy: 0.9069\n",
            "Epoch 42/100\n",
            "139/139 [==============================] - 1s 5ms/step - loss: 0.5041 - accuracy: 0.8134 - top_k_categorical_accuracy: 0.9007\n",
            "Epoch 43/100\n",
            "139/139 [==============================] - 1s 5ms/step - loss: 0.5091 - accuracy: 0.8127 - top_k_categorical_accuracy: 0.9033\n",
            "Epoch 44/100\n",
            "139/139 [==============================] - 1s 5ms/step - loss: 0.5012 - accuracy: 0.8129 - top_k_categorical_accuracy: 0.9019\n",
            "Epoch 45/100\n",
            "139/139 [==============================] - 1s 5ms/step - loss: 0.4947 - accuracy: 0.8117 - top_k_categorical_accuracy: 0.9028\n",
            "Epoch 46/100\n",
            "139/139 [==============================] - 1s 5ms/step - loss: 0.5012 - accuracy: 0.8151 - top_k_categorical_accuracy: 0.9028\n",
            "Epoch 47/100\n",
            "139/139 [==============================] - 1s 5ms/step - loss: 0.5005 - accuracy: 0.8163 - top_k_categorical_accuracy: 0.9045\n",
            "Epoch 48/100\n",
            "139/139 [==============================] - 1s 5ms/step - loss: 0.5000 - accuracy: 0.8148 - top_k_categorical_accuracy: 0.9016\n",
            "Epoch 49/100\n",
            "139/139 [==============================] - 1s 5ms/step - loss: 0.4997 - accuracy: 0.8141 - top_k_categorical_accuracy: 0.9033\n",
            "Epoch 50/100\n",
            "139/139 [==============================] - 1s 4ms/step - loss: 0.4941 - accuracy: 0.8148 - top_k_categorical_accuracy: 0.9079\n",
            "Epoch 51/100\n",
            "139/139 [==============================] - 1s 5ms/step - loss: 0.5012 - accuracy: 0.8170 - top_k_categorical_accuracy: 0.9028\n",
            "Epoch 52/100\n",
            "139/139 [==============================] - 1s 5ms/step - loss: 0.4994 - accuracy: 0.8163 - top_k_categorical_accuracy: 0.9052\n",
            "Epoch 53/100\n",
            "139/139 [==============================] - 1s 4ms/step - loss: 0.4935 - accuracy: 0.8196 - top_k_categorical_accuracy: 0.9062\n",
            "Epoch 54/100\n",
            "139/139 [==============================] - 1s 4ms/step - loss: 0.4926 - accuracy: 0.8182 - top_k_categorical_accuracy: 0.9048\n",
            "Epoch 55/100\n",
            "139/139 [==============================] - 1s 4ms/step - loss: 0.5006 - accuracy: 0.8179 - top_k_categorical_accuracy: 0.9002\n",
            "Epoch 56/100\n",
            "139/139 [==============================] - 1s 4ms/step - loss: 0.4953 - accuracy: 0.8175 - top_k_categorical_accuracy: 0.9045\n",
            "Epoch 57/100\n",
            "139/139 [==============================] - 1s 4ms/step - loss: 0.4921 - accuracy: 0.8177 - top_k_categorical_accuracy: 0.9079\n",
            "Epoch 58/100\n",
            "139/139 [==============================] - 1s 8ms/step - loss: 0.4928 - accuracy: 0.8167 - top_k_categorical_accuracy: 0.9048\n",
            "Epoch 59/100\n",
            "139/139 [==============================] - 1s 7ms/step - loss: 0.4886 - accuracy: 0.8187 - top_k_categorical_accuracy: 0.9052\n",
            "Epoch 60/100\n",
            "139/139 [==============================] - 1s 7ms/step - loss: 0.4945 - accuracy: 0.8196 - top_k_categorical_accuracy: 0.9072\n",
            "Epoch 61/100\n",
            "139/139 [==============================] - 1s 9ms/step - loss: 0.4972 - accuracy: 0.8158 - top_k_categorical_accuracy: 0.9052\n",
            "Epoch 62/100\n",
            "139/139 [==============================] - 1s 5ms/step - loss: 0.4900 - accuracy: 0.8182 - top_k_categorical_accuracy: 0.9043\n",
            "Epoch 63/100\n",
            "139/139 [==============================] - 1s 5ms/step - loss: 0.4977 - accuracy: 0.8191 - top_k_categorical_accuracy: 0.9069\n",
            "Epoch 64/100\n",
            "139/139 [==============================] - 1s 5ms/step - loss: 0.4914 - accuracy: 0.8179 - top_k_categorical_accuracy: 0.9014\n",
            "Epoch 65/100\n",
            "139/139 [==============================] - 1s 4ms/step - loss: 0.4890 - accuracy: 0.8191 - top_k_categorical_accuracy: 0.9057\n",
            "Epoch 66/100\n",
            "139/139 [==============================] - 1s 4ms/step - loss: 0.4884 - accuracy: 0.8203 - top_k_categorical_accuracy: 0.9009\n",
            "Epoch 67/100\n",
            "139/139 [==============================] - 1s 4ms/step - loss: 0.4908 - accuracy: 0.8206 - top_k_categorical_accuracy: 0.9026\n",
            "Epoch 68/100\n",
            "139/139 [==============================] - 1s 4ms/step - loss: 0.4895 - accuracy: 0.8146 - top_k_categorical_accuracy: 0.9016\n",
            "Epoch 69/100\n",
            "139/139 [==============================] - 1s 5ms/step - loss: 0.4877 - accuracy: 0.8184 - top_k_categorical_accuracy: 0.9060\n",
            "Epoch 70/100\n",
            "139/139 [==============================] - 1s 5ms/step - loss: 0.4887 - accuracy: 0.8199 - top_k_categorical_accuracy: 0.9031\n",
            "Epoch 71/100\n",
            "139/139 [==============================] - 1s 5ms/step - loss: 0.4875 - accuracy: 0.8177 - top_k_categorical_accuracy: 0.9069\n",
            "Epoch 72/100\n",
            "139/139 [==============================] - 1s 4ms/step - loss: 0.4878 - accuracy: 0.8179 - top_k_categorical_accuracy: 0.9038\n",
            "Epoch 73/100\n",
            "139/139 [==============================] - 1s 4ms/step - loss: 0.4816 - accuracy: 0.8158 - top_k_categorical_accuracy: 0.9072\n",
            "Epoch 74/100\n",
            "139/139 [==============================] - 1s 5ms/step - loss: 0.4844 - accuracy: 0.8167 - top_k_categorical_accuracy: 0.9038\n",
            "Epoch 75/100\n",
            "139/139 [==============================] - 1s 5ms/step - loss: 0.4929 - accuracy: 0.8179 - top_k_categorical_accuracy: 0.9057\n",
            "Epoch 76/100\n",
            "139/139 [==============================] - 1s 5ms/step - loss: 0.4833 - accuracy: 0.8179 - top_k_categorical_accuracy: 0.9019\n",
            "Epoch 77/100\n",
            "139/139 [==============================] - 1s 5ms/step - loss: 0.4885 - accuracy: 0.8172 - top_k_categorical_accuracy: 0.9048\n",
            "Epoch 78/100\n",
            "139/139 [==============================] - 1s 5ms/step - loss: 0.4882 - accuracy: 0.8189 - top_k_categorical_accuracy: 0.9050\n",
            "Epoch 79/100\n",
            "139/139 [==============================] - 1s 5ms/step - loss: 0.4867 - accuracy: 0.8179 - top_k_categorical_accuracy: 0.9055\n",
            "Epoch 80/100\n",
            "139/139 [==============================] - 1s 5ms/step - loss: 0.4866 - accuracy: 0.8211 - top_k_categorical_accuracy: 0.9055\n",
            "Epoch 81/100\n",
            "139/139 [==============================] - 1s 5ms/step - loss: 0.4860 - accuracy: 0.8172 - top_k_categorical_accuracy: 0.9050\n",
            "Epoch 82/100\n",
            "139/139 [==============================] - 1s 5ms/step - loss: 0.4887 - accuracy: 0.8182 - top_k_categorical_accuracy: 0.9040\n",
            "Epoch 83/100\n",
            "139/139 [==============================] - 1s 5ms/step - loss: 0.4842 - accuracy: 0.8175 - top_k_categorical_accuracy: 0.9040\n",
            "Epoch 84/100\n",
            "139/139 [==============================] - 1s 5ms/step - loss: 0.4829 - accuracy: 0.8167 - top_k_categorical_accuracy: 0.9052\n",
            "Epoch 85/100\n",
            "139/139 [==============================] - 1s 4ms/step - loss: 0.4909 - accuracy: 0.8182 - top_k_categorical_accuracy: 0.9043\n",
            "Epoch 86/100\n",
            "139/139 [==============================] - 1s 5ms/step - loss: 0.4829 - accuracy: 0.8211 - top_k_categorical_accuracy: 0.9052\n",
            "Epoch 87/100\n",
            "139/139 [==============================] - 1s 5ms/step - loss: 0.4861 - accuracy: 0.8196 - top_k_categorical_accuracy: 0.9028\n",
            "Epoch 88/100\n",
            "139/139 [==============================] - 1s 4ms/step - loss: 0.4833 - accuracy: 0.8191 - top_k_categorical_accuracy: 0.9028\n",
            "Epoch 89/100\n",
            "139/139 [==============================] - 1s 5ms/step - loss: 0.4815 - accuracy: 0.8201 - top_k_categorical_accuracy: 0.9024\n",
            "Epoch 90/100\n",
            "139/139 [==============================] - 1s 5ms/step - loss: 0.4789 - accuracy: 0.8184 - top_k_categorical_accuracy: 0.9040\n",
            "Epoch 91/100\n",
            "139/139 [==============================] - 1s 5ms/step - loss: 0.4804 - accuracy: 0.8208 - top_k_categorical_accuracy: 0.9060\n",
            "Epoch 92/100\n",
            "139/139 [==============================] - 1s 5ms/step - loss: 0.4801 - accuracy: 0.8179 - top_k_categorical_accuracy: 0.9072\n",
            "Epoch 93/100\n",
            "139/139 [==============================] - 1s 5ms/step - loss: 0.4796 - accuracy: 0.8228 - top_k_categorical_accuracy: 0.9057\n",
            "Epoch 94/100\n",
            "139/139 [==============================] - 1s 5ms/step - loss: 0.4790 - accuracy: 0.8179 - top_k_categorical_accuracy: 0.9064\n",
            "Epoch 95/100\n",
            "139/139 [==============================] - 1s 5ms/step - loss: 0.4796 - accuracy: 0.8170 - top_k_categorical_accuracy: 0.9052\n",
            "Epoch 96/100\n",
            "139/139 [==============================] - 1s 5ms/step - loss: 0.4793 - accuracy: 0.8228 - top_k_categorical_accuracy: 0.9064\n",
            "Epoch 97/100\n",
            "139/139 [==============================] - 1s 5ms/step - loss: 0.4862 - accuracy: 0.8163 - top_k_categorical_accuracy: 0.9043\n",
            "Epoch 98/100\n",
            "139/139 [==============================] - 1s 4ms/step - loss: 0.4996 - accuracy: 0.8165 - top_k_categorical_accuracy: 0.9069\n",
            "Epoch 99/100\n",
            "139/139 [==============================] - 1s 4ms/step - loss: 0.4856 - accuracy: 0.8215 - top_k_categorical_accuracy: 0.9055\n",
            "Epoch 100/100\n",
            "139/139 [==============================] - 1s 4ms/step - loss: 0.4799 - accuracy: 0.8194 - top_k_categorical_accuracy: 0.9052\n",
            "[[51  2  1  0 12  0  1  5  2  0  0  0  0]\n",
            " [ 0 74  0  4  3  1  1  6  0  1  2  5  0]\n",
            " [ 0  3 50  1 17  0  1  0  0  0  1  1  0]\n",
            " [ 0  1  2 94  2  0  0  3  0  0  0  2  0]\n",
            " [ 2  5  0  2 56  0  1  1  1  0  0  6  0]\n",
            " [ 0  0  1  1  3 29  0 12  3  0  0  2  0]\n",
            " [ 1  2  0  0  5  2 45  0  2  0  0  2  0]\n",
            " [ 0  7  0  1  4  4  2 51  1  0  1  8  0]\n",
            " [ 2  8  2  0 16  1  2  0 45  0  0  1  0]\n",
            " [ 0  4  0  0  0  0  0  0  0 85  0  0  0]\n",
            " [ 1  6  2  0  5  0  0  0  4  0 75  0  0]\n",
            " [ 0  1  0  5  2  6  0 10  1  0  0 66  0]\n",
            " [ 0  0  0  0  0  0  0  0  0  0  0  0 78]]\n",
            "              precision    recall  f1-score   support\n",
            "\n",
            "           0       0.89      0.69      0.78        74\n",
            "           2       0.65      0.76      0.70        97\n",
            "           3       0.86      0.68      0.76        74\n",
            "           5       0.87      0.90      0.89       104\n",
            "           6       0.45      0.76      0.56        74\n",
            "           7       0.67      0.57      0.62        51\n",
            "           8       0.85      0.76      0.80        59\n",
            "           9       0.58      0.65      0.61        79\n",
            "          13       0.76      0.58      0.66        77\n",
            "          14       0.99      0.96      0.97        89\n",
            "          15       0.95      0.81      0.87        93\n",
            "          17       0.71      0.73      0.72        91\n",
            "          23       1.00      1.00      1.00        78\n",
            "\n",
            "    accuracy                           0.77      1040\n",
            "   macro avg       0.79      0.76      0.76      1040\n",
            "weighted avg       0.79      0.77      0.77      1040\n",
            "\n"
          ]
        }
      ]
    },
    {
      "cell_type": "markdown",
      "source": [
        "## Comparison with previous works"
      ],
      "metadata": {
        "id": "3lylDhfGheI9"
      }
    },
    {
      "cell_type": "markdown",
      "source": [
        "### On Ransomware Family Attribution Using Pre-Attack Paranoia Activities"
      ],
      "metadata": {
        "id": "a7QlGBfAHVo2"
      }
    },
    {
      "cell_type": "code",
      "source": [
        "# Dataset loading\n",
        "paranoia_dataset = pd.read_csv('/content/drive/MyDrive/paranoia_dataset.csv')\n",
        "data_para = paranoia_dataset.to_numpy()\n",
        "xp = data_para[:, :-1].astype(float)\n",
        "yp = data_para[:, -1].astype(float)\n",
        "yp_cat = to_categorical(yp)\n",
        "xp_train, xp_test, yp_train, yp_test = train_test_split(xp, yp_cat, test_size=0.2)"
      ],
      "metadata": {
        "id": "PrRd5sH6HY5X"
      },
      "execution_count": null,
      "outputs": []
    },
    {
      "cell_type": "markdown",
      "source": [
        "We first check the accuracy of their model using their dataset"
      ],
      "metadata": {
        "id": "a5HuUJtGIJ7Y"
      }
    },
    {
      "cell_type": "code",
      "source": [
        "randclf = RandomForestClassifier(n_estimators=50, random_state=10)\n",
        "randclf.fit(xp_train, yp_train)\n",
        "yp_train_pred = randclf.predict(xp_train)\n",
        "print('train precision: ' + str(precision_score(yp_train, yp_train_pred, average='weighted')))\n",
        "print('train recall: ' + str(recall_score(yp_train, yp_train_pred, average='weighted')))\n",
        "print('train accuracy: ' + str(accuracy_score(yp_train, yp_train_pred)))\n",
        "yp_test_pred = randclf.predict(xp_test)\n",
        "print('test precision: ' + str(precision_score(yp_test, yp_test_pred, average='weighted')))\n",
        "print('test recall: ' + str(recall_score(yp_test, yp_test_pred, average='weighted')))\n",
        "print('test accuracy: ' + str(accuracy_score(yp_test, yp_test_pred)))"
      ],
      "metadata": {
        "id": "RvoT6rFVHkyA"
      },
      "execution_count": null,
      "outputs": []
    },
    {
      "cell_type": "markdown",
      "source": [
        "We then use our model on their dataset to check the performances"
      ],
      "metadata": {
        "id": "MaPScY0oIQvZ"
      }
    },
    {
      "cell_type": "code",
      "source": [
        "model = Sequential()\n",
        "model.add(Dense(512, input_dim=23, activation = \"relu\"))\n",
        "model.add(Dense(256, activation = \"relu\"))\n",
        "model.add(Dense(128, activation = \"relu\"))\n",
        "model.add(Dropout(0.2))\n",
        "model.add(Dense(6, activation = \"softmax\"))\n",
        "model.compile(loss='categorical_crossentropy', optimizer='adam', metrics=['accuracy', TopKCategoricalAccuracy(k=2)])\n",
        "model.summary()\n",
        "model.fit(xp_train, yp_train, verbose=1, epochs=100, batch_size=30)\n",
        "\n",
        "predict_xp=model.predict(xp_test) \n",
        "yp_pred_class=np.argmax(predict_xp,axis=1)\n",
        "\n",
        "yp_pred = model.predict(xp_test)\n",
        "yp_test_class = np.argmax(yp_test, axis=1)\n",
        "\n",
        "print(classification_report(yp_test_class, yp_pred_class))"
      ],
      "metadata": {
        "id": "cYDv_ygQIEez"
      },
      "execution_count": null,
      "outputs": []
    }
  ]
}