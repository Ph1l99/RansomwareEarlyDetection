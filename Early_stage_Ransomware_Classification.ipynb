{
  "nbformat": 4,
  "nbformat_minor": 0,
  "metadata": {
    "colab": {
      "name": "Early-stage Ransomware Classification.ipynb",
      "provenance": [],
      "collapsed_sections": [
        "6oiIptz1jOcr",
        "VvAr_t5szsMR",
        "ciP9XIsf0CHB",
        "txvyYDALsemX",
        "DFBAh0pMsg4N"
      ]
    },
    "kernelspec": {
      "name": "python3",
      "display_name": "Python 3"
    },
    "language_info": {
      "name": "python"
    }
  },
  "cells": [
    {
      "cell_type": "markdown",
      "source": [
        "# Import modules\n"
      ],
      "metadata": {
        "id": "0FCEEJGUeJ0y"
      }
    },
    {
      "cell_type": "code",
      "execution_count": 1,
      "metadata": {
        "colab": {
          "base_uri": "https://localhost:8080/"
        },
        "id": "AugmMQ2VeEJ4",
        "outputId": "4822a295-8b1b-469d-8d8a-f3789f7df270"
      },
      "outputs": [
        {
          "output_type": "stream",
          "name": "stdout",
          "text": [
            "Mounted at /content/drive/\n"
          ]
        }
      ],
      "source": [
        "from google.colab import drive\n",
        "drive.mount('/content/drive/', force_remount=True)"
      ]
    },
    {
      "cell_type": "code",
      "source": [
        "import warnings\n",
        "warnings.simplefilter(action='ignore', category=FutureWarning)\n",
        "\n",
        "#ML auxiliary libraries\n",
        "import pandas as pd\n",
        "import numpy as np\n",
        "import matplotlib.pyplot as plt\n",
        "import seaborn as sn\n",
        "\n",
        "#SkLearn auxiliary libraries\n",
        "from sklearn.model_selection import train_test_split\n",
        "from sklearn.metrics import classification_report, confusion_matrix, accuracy_score, ConfusionMatrixDisplay, f1_score, precision_score, recall_score, top_k_accuracy_score\n",
        "\n",
        "#SkLearn classifiers\n",
        "from sklearn.ensemble import RandomForestClassifier\n",
        "from sklearn.naive_bayes import BernoulliNB, MultinomialNB\n",
        "from sklearn.neighbors import KNeighborsClassifier\n",
        "\n",
        "import matplotlib.pyplot as plt\n",
        "import seaborn as sns\n",
        "import numpy as np\n",
        "import pandas as pd \n",
        "import seaborn as sns\n",
        "from keras.models import Sequential\n",
        "from keras.layers import Dense, Dropout\n",
        "import keras.backend as K\n",
        "from sklearn.model_selection import train_test_split, cross_val_score\n",
        "from sklearn.preprocessing import StandardScaler\n",
        "from sklearn.metrics import classification_report, confusion_matrix, plot_confusion_matrix\n",
        "from keras.utils.np_utils import to_categorical\n",
        "from keras.metrics import TopKCategoricalAccuracy"
      ],
      "metadata": {
        "id": "Cf9O57vUeZZ3"
      },
      "execution_count": 2,
      "outputs": []
    },
    {
      "cell_type": "code",
      "source": [
        "!pip install scikit-multilearn"
      ],
      "metadata": {
        "colab": {
          "base_uri": "https://localhost:8080/"
        },
        "id": "YS0r4IIkec_9",
        "outputId": "8a0f5580-9a3f-4d63-8a0c-5d8f592b451f"
      },
      "execution_count": 3,
      "outputs": [
        {
          "output_type": "stream",
          "name": "stdout",
          "text": [
            "Looking in indexes: https://pypi.org/simple, https://us-python.pkg.dev/colab-wheels/public/simple/\n",
            "Collecting scikit-multilearn\n",
            "  Downloading scikit_multilearn-0.2.0-py3-none-any.whl (89 kB)\n",
            "\u001b[K     |████████████████████████████████| 89 kB 3.7 MB/s \n",
            "\u001b[?25hInstalling collected packages: scikit-multilearn\n",
            "Successfully installed scikit-multilearn-0.2.0\n"
          ]
        }
      ]
    },
    {
      "cell_type": "markdown",
      "source": [
        "# Import datasets"
      ],
      "metadata": {
        "id": "n2qeWpIReikV"
      }
    },
    {
      "cell_type": "markdown",
      "source": [
        "## Our dataset:\n",
        "- API calls: **48 API**\n",
        "- Families: 12 ransomware + 1 benign -> **5203 Samples**"
      ],
      "metadata": {
        "id": "ttjUnp9hhxbr"
      }
    },
    {
      "cell_type": "code",
      "source": [
        "our_dataset = pd.read_csv('/content/drive/MyDrive/dataset_categorical_wo_zero.csv')\n",
        "\n",
        "our_dataset = our_dataset.drop(our_dataset.columns[our_dataset.apply(lambda col: col.sum() <= 20)], axis=1)\n",
        "api_count = our_dataset.drop('Family', axis=1).sum()\n",
        "print(\"\\n\\nAPIs:\")\n",
        "print(api_count)\n",
        "\n",
        "blacklist = [1,4,10,12,18,20,22,21,11,16,19]\n",
        "our_dataset = our_dataset.drop(our_dataset[our_dataset['Family'].isin(blacklist)].index)\n",
        "our_dataset = our_dataset.groupby('Family').head(450)\n",
        "print(our_dataset.shape)\n",
        "\n",
        "data = our_dataset.to_numpy()\n",
        "x_ours = data[:, :-1].astype(float)\n",
        "y_ours = data[:, -1].astype(float)\n",
        "x_train_ours, x_test_ours, y_train_ours, y_test_ours = train_test_split(x_ours, y_ours, test_size=0.2)\n",
        "\n",
        "print(\"\\n\\nFamilies:\")\n",
        "family_count = our_dataset['Family']\n",
        "print(family_count.value_counts())"
      ],
      "metadata": {
        "colab": {
          "base_uri": "https://localhost:8080/"
        },
        "id": "6PSDptHHefuy",
        "outputId": "1b05c145-4485-4b0e-94bb-c9b74d247b38"
      },
      "execution_count": 4,
      "outputs": [
        {
          "output_type": "stream",
          "name": "stdout",
          "text": [
            "\n",
            "\n",
            "APIs:\n",
            "CreateProcessInternalW      2020\n",
            "CreateServiceA               143\n",
            "CreateServiceW               786\n",
            "CryptExportKey               145\n",
            "CryptGenKey                  134\n",
            "CryptHashData                 41\n",
            "DeviceIoControl               88\n",
            "EnumServicesStatusA           83\n",
            "EnumServicesStatusW           34\n",
            "FindWindowA                  152\n",
            "GetAdaptersAddresses        1499\n",
            "GetComputerNameA             649\n",
            "GetComputerNameW            3227\n",
            "GetDiskFreeSpaceExW         1399\n",
            "GetDiskFreeSpaceW            195\n",
            "GlobalMemoryStatusEx        3527\n",
            "InternetOpenA                308\n",
            "IsDebuggerPresent           3631\n",
            "LdrGetDllHandle               31\n",
            "LookupPrivilegeValueW       2747\n",
            "MoveFileWithProgressW        197\n",
            "NtAllocateVirtualMemory     6215\n",
            "NtCreateFile                 138\n",
            "NtCreateKey                  737\n",
            "NtGetContextThread           627\n",
            "NtLoadDriver                  21\n",
            "NtMapViewOfSection           106\n",
            "NtProtectVirtualMemory      6224\n",
            "NtQuerySystemInformation      46\n",
            "NtResumeThread               617\n",
            "NtSetContextThread           568\n",
            "NtSetValueKey                776\n",
            "NtTerminateProcess           433\n",
            "NtUnmapViewOfSection         533\n",
            "NtWriteFile                  551\n",
            "Process32NextW               844\n",
            "RegOpenKeyExA                 62\n",
            "RegOpenKeyExW                141\n",
            "RegQueryValueExW             106\n",
            "RegSetValueExA              1147\n",
            "RegSetValueExW              1325\n",
            "SetFileAttributesW          1542\n",
            "SetWindowsHookExA            376\n",
            "SetWindowsHookExW            127\n",
            "ShellExecuteExW             2382\n",
            "WriteConsoleA                169\n",
            "WriteConsoleW               1391\n",
            "WriteProcessMemory           539\n",
            "dtype: int64\n",
            "(5203, 49)\n",
            "\n",
            "\n",
            "Families:\n",
            "17    450\n",
            "14    450\n",
            "2     450\n",
            "5     450\n",
            "15    450\n",
            "23    450\n",
            "9     443\n",
            "0     432\n",
            "6     377\n",
            "3     359\n",
            "13    331\n",
            "8     295\n",
            "7     266\n",
            "Name: Family, dtype: int64\n"
          ]
        }
      ]
    },
    {
      "cell_type": "markdown",
      "source": [
        "## Paranoia Dataset"
      ],
      "metadata": {
        "id": "7MRAbjbSimFh"
      }
    },
    {
      "cell_type": "code",
      "source": [
        "paranoia_dataset = pd.read_csv('/content/drive/MyDrive/paranoia_dataset.csv')\n",
        "data_para = paranoia_dataset.to_numpy()\n",
        "x_para = data_para[:, :-1].astype(float)\n",
        "y_para = data_para[:, -1].astype(float)"
      ],
      "metadata": {
        "id": "FP4Uxfajioka"
      },
      "execution_count": null,
      "outputs": []
    },
    {
      "cell_type": "markdown",
      "source": [
        "# Our model with Paranoia Dataset\n",
        "\n",
        "* Accuracy = **93.24%**\n",
        "* Top-k Categorical Accuracy = **98.77%**\n",
        "* Recall = **91.00%**\n",
        "* Precision = **91.00%**\n",
        "* F1 Score = **91.00%**"
      ],
      "metadata": {
        "id": "6oiIptz1jOcr"
      }
    },
    {
      "cell_type": "code",
      "source": [
        "y_cat_para = to_categorical(y_para)\n",
        "x_train_para, x_test_para, y_train_para, y_test_para = train_test_split(x_para, y_cat_para, test_size=0.2)\n",
        "\n",
        "model = Sequential()\n",
        "model.add(Dense(512, input_dim=23, activation = \"relu\"))\n",
        "model.add(Dense(256, activation = \"relu\"))\n",
        "model.add(Dense(128, activation = \"relu\"))\n",
        "model.add(Dropout(0.2))\n",
        "model.add(Dense(6, activation = \"softmax\"))\n",
        "model.compile(loss='categorical_crossentropy', optimizer='adam', metrics=['accuracy', TopKCategoricalAccuracy(k=2)])\n",
        "model.summary()\n",
        "model.fit(x_train_para, y_train_para, verbose=1, epochs=100, batch_size=15)\n",
        "\n",
        "predict_x_para=model.predict(x_test_para) \n",
        "y_pred_class_para=np.argmax(predict_x_para,axis=1)\n",
        "\n",
        "y_pred_para = model.predict(x_test_para)\n",
        "y_test_class_para = np.argmax(y_test_para, axis=1)\n",
        "print(confusion_matrix(y_test_class_para, y_pred_class_para))\n",
        "\n",
        "print(classification_report(y_test_class_para, y_pred_class_para))"
      ],
      "metadata": {
        "id": "CpP_b48HjONI"
      },
      "execution_count": null,
      "outputs": []
    },
    {
      "cell_type": "markdown",
      "source": [
        "# Our model with our dataset\n",
        "\n",
        "* Accuracy = **82.29%**\n",
        "* Top-k Categorical Accuracy = **90.51%**\n",
        "* Recall = **80.00%**\n",
        "* Precision = **78.00%**\n",
        "* F1 Score = **78.00%**"
      ],
      "metadata": {
        "id": "ynqVkLJUp7A4"
      }
    },
    {
      "cell_type": "code",
      "source": [
        "y_cat_ours = to_categorical(y_ours)\n",
        "x_train_ours, x_test_ours, y_train_ours, y_test_ours = train_test_split(x_ours, y_cat_ours, test_size=0.2)\n",
        "\n",
        "model = Sequential()\n",
        "model.add(Dense(512, input_dim=48, activation = \"relu\"))\n",
        "model.add(Dense(256, activation = \"relu\"))\n",
        "model.add(Dense(128, activation = \"relu\"))\n",
        "model.add(Dropout(0.2))\n",
        "model.add(Dense(24, activation = \"softmax\"))\n",
        "model.compile(loss='categorical_crossentropy', optimizer='adam', metrics=['accuracy', TopKCategoricalAccuracy(k=2)])\n",
        "model.summary()\n",
        "model.fit(x_train_ours, y_train_ours, verbose=1, epochs=100, batch_size=10)\n",
        "\n",
        "predict_x=model.predict(x_test_ours) \n",
        "y_pred_class=np.argmax(predict_x,axis=1)\n",
        "\n",
        "y_pred = model.predict(x_test_ours)\n",
        "y_test_class = np.argmax(y_test_ours, axis=1)\n",
        "print(confusion_matrix(y_test_class, y_pred_class))\n",
        "\n",
        "print(classification_report(y_test_class, y_pred_class))"
      ],
      "metadata": {
        "id": "hJk56InyqAqb"
      },
      "execution_count": null,
      "outputs": []
    },
    {
      "cell_type": "markdown",
      "source": [
        "# Paranoia Model with Paranoia Dataset\n",
        "\n",
        "* Accuracy = **89.04%**\n",
        "* Top-k Categorical Accuracy = **-**\n",
        "* Recall = **89.04%**\n",
        "* Precision = **92.82%**\n",
        "* F1 Score = **90.84%**"
      ],
      "metadata": {
        "id": "VvAr_t5szsMR"
      }
    },
    {
      "cell_type": "code",
      "source": [
        "randclf = RandomForestClassifier(n_estimators=50, random_state=10)\n",
        "randclf.fit(x_train_para, y_train_para)\n",
        "y_train_pred_para = randclf.predict(x_train_para)\n",
        "print('train precision: ' + str(precision_score(y_train_para, y_train_pred_para, average='weighted')))\n",
        "print('train recall: ' + str(recall_score(y_train_para, y_train_pred_para, average='weighted')))\n",
        "print('train f1-score: ' + str(f1_score(y_train_para, y_train_pred_para, average='weighted')))\n",
        "# print('train top_k_accuracy_score: ' + str(top_k_accuracy_score(y_train, y_train_pred, k=2)))\n",
        "print('train accuracy: ' + str(accuracy_score(y_train_para, y_train_pred_para)))\n",
        "\n",
        "y_test_pred_para = randclf.predict(x_test_para)\n",
        "print('test precision: ' + str(precision_score(y_test_para, y_test_pred_para, average='weighted')))\n",
        "print('test recall: ' + str(recall_score(y_test_para, y_test_pred_para, average='weighted')))\n",
        "print('test f1-score: ' + str(f1_score(y_test_para, y_test_pred_para, average='weighted')))\n",
        "# print('test top_k_accuracy_score: ' + str(top_k_accuracy_score(y_test, y_test_pred, k=2)))\n",
        "print('test accuracy: ' + str(accuracy_score(y_test_para, y_test_pred_para)))"
      ],
      "metadata": {
        "colab": {
          "base_uri": "https://localhost:8080/"
        },
        "id": "4qSBZLjizwIw",
        "outputId": "1fd26014-7738-4637-89cb-a3e7c5982146"
      },
      "execution_count": null,
      "outputs": [
        {
          "output_type": "stream",
          "name": "stdout",
          "text": [
            "train precision: 0.950311750635081\n",
            "train recall: 0.9168106640335719\n",
            "train f1-score: 0.9326422267857791\n",
            "train accuracy: 0.9168106640335719\n",
            "test precision: 0.9289016367693217\n",
            "test recall: 0.8904244817374136\n",
            "test f1-score: 0.9084049657200359\n",
            "test accuracy: 0.8904244817374136\n"
          ]
        }
      ]
    },
    {
      "cell_type": "markdown",
      "source": [
        "# Paranoia Model with Our Dataset\n",
        "\n",
        "* Accuracy = **71.37%**\n",
        "* Top-k Categorical Accuracy = **-**\n",
        "* Recall = **71.37%**\n",
        "* Precision = **90.19%**\n",
        "* F1 Score = **78.88%**"
      ],
      "metadata": {
        "id": "ciP9XIsf0CHB"
      }
    },
    {
      "cell_type": "code",
      "source": [
        "randclf = RandomForestClassifier(n_estimators=50, random_state=10)\n",
        "randclf.fit(x_train_ours, y_train_ours)\n",
        "y_train_pred_ours = randclf.predict(x_train_ours)\n",
        "print('train precision: ' + str(precision_score(y_train_ours, y_train_pred_ours, average='weighted')))\n",
        "print('train recall: ' + str(recall_score(y_train_ours, y_train_pred_ours, average='weighted')))\n",
        "print('train f1-score: ' + str(f1_score(y_train_ours, y_train_pred_ours, average='weighted')))\n",
        "print('train accuracy: ' + str(accuracy_score(y_train_ours, y_train_pred_ours)))\n",
        "\n",
        "y_test_pred_ours = randclf.predict(x_test_ours)\n",
        "print('test precision: ' + str(precision_score(y_test_ours, y_test_pred_ours, average='weighted')))\n",
        "print('test recall: ' + str(recall_score(y_test_ours, y_test_pred_ours, average='weighted')))\n",
        "print('test f1-score: ' + str(f1_score(y_test_ours, y_test_pred_ours, average='weighted')))\n",
        "print('test accuracy: ' + str(accuracy_score(y_test_ours, y_test_pred_ours)))"
      ],
      "metadata": {
        "colab": {
          "base_uri": "https://localhost:8080/"
        },
        "id": "kNHApiC50Ffp",
        "outputId": "25e3ff7e-e09e-48b1-c68a-dbe6984f4e59"
      },
      "execution_count": null,
      "outputs": [
        {
          "output_type": "stream",
          "name": "stderr",
          "text": [
            "/usr/local/lib/python3.7/dist-packages/sklearn/metrics/_classification.py:1318: UndefinedMetricWarning: Precision is ill-defined and being set to 0.0 in labels with no predicted samples. Use `zero_division` parameter to control this behavior.\n",
            "  _warn_prf(average, modifier, msg_start, len(result))\n",
            "/usr/local/lib/python3.7/dist-packages/sklearn/metrics/_classification.py:1318: UndefinedMetricWarning: Recall is ill-defined and being set to 0.0 in labels with no true samples. Use `zero_division` parameter to control this behavior.\n",
            "  _warn_prf(average, modifier, msg_start, len(result))\n",
            "/usr/local/lib/python3.7/dist-packages/sklearn/metrics/_classification.py:1580: UndefinedMetricWarning: F-score is ill-defined and being set to 0.0 in labels with no true nor predicted samples. Use `zero_division` parameter to control this behavior.\n",
            "  _warn_prf(average, \"true nor predicted\", \"F-score is\", len(true_sum))\n"
          ]
        },
        {
          "output_type": "stream",
          "name": "stdout",
          "text": [
            "train precision: 0.9200305607904686\n",
            "train recall: 0.7782316194137434\n",
            "train f1-score: 0.8371158204390666\n",
            "train accuracy: 0.7782316194137434\n",
            "test precision: 0.9019203088101009\n",
            "test recall: 0.7137367915465899\n",
            "test f1-score: 0.7888952654418432\n",
            "test accuracy: 0.7137367915465899\n"
          ]
        },
        {
          "output_type": "stream",
          "name": "stderr",
          "text": [
            "/usr/local/lib/python3.7/dist-packages/sklearn/metrics/_classification.py:1318: UndefinedMetricWarning: Precision is ill-defined and being set to 0.0 in labels with no predicted samples. Use `zero_division` parameter to control this behavior.\n",
            "  _warn_prf(average, modifier, msg_start, len(result))\n",
            "/usr/local/lib/python3.7/dist-packages/sklearn/metrics/_classification.py:1318: UndefinedMetricWarning: Recall is ill-defined and being set to 0.0 in labels with no true samples. Use `zero_division` parameter to control this behavior.\n",
            "  _warn_prf(average, modifier, msg_start, len(result))\n",
            "/usr/local/lib/python3.7/dist-packages/sklearn/metrics/_classification.py:1580: UndefinedMetricWarning: F-score is ill-defined and being set to 0.0 in labels with no true nor predicted samples. Use `zero_division` parameter to control this behavior.\n",
            "  _warn_prf(average, \"true nor predicted\", \"F-score is\", len(true_sum))\n"
          ]
        }
      ]
    },
    {
      "cell_type": "markdown",
      "source": [
        "# Other models"
      ],
      "metadata": {
        "id": "Z3u2XCT5YJmj"
      }
    },
    {
      "cell_type": "markdown",
      "source": [
        "## Bernoulli Naive Bayes"
      ],
      "metadata": {
        "id": "UYcj8-W263BF"
      }
    },
    {
      "cell_type": "code",
      "source": [
        "bern_na_bay = BernoulliNB()\n",
        "\n",
        "scores = cross_val_score(bern_na_bay, x_ours, y_ours, cv=10)\n",
        "print(scores.mean())\n",
        "\n",
        "x_train, x_test, y_train, y_test = train_test_split(x_ours, y_ours, test_size=0.2, stratify=y, random_state=75)\n",
        "bern_na_bay.fit(x_train, y_train)\n",
        "\n",
        "predict=bern_na_bay.predict(x_test)\n",
        "\n",
        "print('precision: ' + str(precision_score(predict, y_test, average='weighted')))\n",
        "print('recall: ' + str(recall_score(predict, y_test, average='weighted')))\n",
        "print('f1-score: ' + str(f1_score(predict, y_test, average='weighted')))\n",
        "print('accuracy: ' + str(accuracy_score(predict, y_test)))\n",
        "print('top-k accuracy: ' + str(top_k_accuracy_score(y_test, bern_na_bay.predict_proba(x_test), k=2)))"
      ],
      "metadata": {
        "colab": {
          "base_uri": "https://localhost:8080/"
        },
        "id": "lR6pi0zSWP5N",
        "outputId": "cadea91e-05ee-4b34-b11f-49913cc93256"
      },
      "execution_count": null,
      "outputs": [
        {
          "output_type": "stream",
          "name": "stdout",
          "text": [
            "0.5631363502140853\n",
            "precision: 0.6206699660901371\n",
            "recall: 0.5658021133525456\n",
            "f1-score: 0.567376232014625\n",
            "accuracy: 0.5658021133525456\n",
            "accuracy: 0.723342939481268\n"
          ]
        }
      ]
    },
    {
      "cell_type": "markdown",
      "source": [
        "## Random Forest"
      ],
      "metadata": {
        "id": "fHxD6av3YMFJ"
      }
    },
    {
      "cell_type": "code",
      "source": [
        "rand_for_classifier=RandomForestClassifier()\n",
        "\n",
        "scores = cross_val_score(rand_for_classifier, x_ours, y_ours, cv=10)\n",
        "print(scores.mean())\n",
        "\n",
        "x_train, x_test, y_train, y_test = train_test_split(x_ours, y_ours, test_size=0.2, random_state=75)\n",
        "rand_for_classifier.fit(x_train, y_train)\n",
        "\n",
        "predict=rand_for_classifier.predict(x_test) \n",
        "\n",
        "print('precision: ' + str(precision_score(predict, y_test, average='weighted')))\n",
        "print('recall: ' + str(recall_score(predict, y_test, average='weighted')))\n",
        "print('f1-score: ' + str(f1_score(predict, y_test, average='weighted')))\n",
        "print('accuracy: ' + str(accuracy_score(predict, y_test)))\n",
        "print('top-k accuracy: ' + str(top_k_accuracy_score(y_test, rand_for_classifier.predict_proba(x_test), k=2)))"
      ],
      "metadata": {
        "colab": {
          "base_uri": "https://localhost:8080/"
        },
        "id": "iByfYD26ZYJi",
        "outputId": "179a5e1e-2a12-4ca2-8232-3fa289a05656"
      },
      "execution_count": null,
      "outputs": [
        {
          "output_type": "stream",
          "name": "stdout",
          "text": [
            "0.7758980510851912\n",
            "precision: 0.8144251543440643\n",
            "recall: 0.7905859750240154\n",
            "f1-score: 0.7885681018392904\n",
            "accuracy: 0.7905859750240154\n",
            "top-k accuracy: 0.8587896253602305\n"
          ]
        }
      ]
    },
    {
      "cell_type": "markdown",
      "source": [
        "## K-Nearest Neighbors"
      ],
      "metadata": {
        "id": "nejjuDQxYNiV"
      }
    },
    {
      "cell_type": "code",
      "source": [
        "knn = KNeighborsClassifier(n_neighbors=3)\n",
        "\n",
        "scores = cross_val_score(knn, x_ours, y_ours, cv=10)\n",
        "print(scores.mean())\n",
        "\n",
        "x_train, x_test, y_train, y_test = train_test_split(x_ours, y_ours, test_size=0.2, random_state=75)\n",
        "knn.fit(x_train, y_train)\n",
        "\n",
        "predict=knn.predict(x_test) \n",
        "\n",
        "print('precision: ' + str(precision_score(predict, y_test, average='weighted')))\n",
        "print('recall: ' + str(recall_score(predict, y_test, average='weighted')))\n",
        "print('f1-score: ' + str(f1_score(predict, y_test, average='weighted')))\n",
        "print('accuracy: ' + str(accuracy_score(predict, y_test)))\n",
        "print('top-k accuracy: ' + str(top_k_accuracy_score(y_test, knn.predict_proba(x_test), k=2)))"
      ],
      "metadata": {
        "colab": {
          "base_uri": "https://localhost:8080/"
        },
        "id": "uqkMLRZQYZ1W",
        "outputId": "311a4bcc-8e5f-432b-999a-d33e325ad3ef"
      },
      "execution_count": null,
      "outputs": [
        {
          "output_type": "stream",
          "name": "stdout",
          "text": [
            "0.6515439982282591\n",
            "precision: 0.7725907999734125\n",
            "recall: 0.7521613832853026\n",
            "f1-score: 0.7534116062348658\n",
            "accuracy: 0.7521613832853026\n",
            "top-k accuracy: 0.8203650336215178\n"
          ]
        }
      ]
    },
    {
      "cell_type": "markdown",
      "source": [
        "# Binary classification"
      ],
      "metadata": {
        "id": "05C5Hk7kmIMM"
      }
    },
    {
      "cell_type": "markdown",
      "source": [
        "### Dataset preparation\n",
        "First of all we transform the dataset to a two-class one by replacing all families identifiers with *Ransomware* or *Benign* classes."
      ],
      "metadata": {
        "id": "ep9u44_PsWl1"
      }
    },
    {
      "cell_type": "code",
      "source": [
        "binary_class_dataset = our_dataset.copy(deep=True)"
      ],
      "metadata": {
        "id": "0NUQnQg6nIVX"
      },
      "execution_count": 5,
      "outputs": []
    },
    {
      "cell_type": "code",
      "source": [
        "binary_class_dataset['Family'] = np.where(binary_class_dataset.Family <= 22, 'Ransomware', 'Benign')"
      ],
      "metadata": {
        "id": "YIxL3k1kHhZN"
      },
      "execution_count": null,
      "outputs": []
    },
    {
      "cell_type": "code",
      "source": [
        "binary_class_dataset['Family'] = np.where(binary_class_dataset.Family <= 22, 1, 0)"
      ],
      "metadata": {
        "id": "7yROqIu_Hion"
      },
      "execution_count": 6,
      "outputs": []
    },
    {
      "cell_type": "code",
      "source": [
        "binary_class_dataset.shape"
      ],
      "metadata": {
        "colab": {
          "base_uri": "https://localhost:8080/"
        },
        "id": "4Su1T5WAoOg3",
        "outputId": "ad4e4ac7-285f-4beb-e2b2-802fcb4a62bc"
      },
      "execution_count": 7,
      "outputs": [
        {
          "output_type": "execute_result",
          "data": {
            "text/plain": [
              "(5203, 49)"
            ]
          },
          "metadata": {},
          "execution_count": 7
        }
      ]
    },
    {
      "cell_type": "markdown",
      "source": [
        "We then split the labels from the features in order to run the classification tasks."
      ],
      "metadata": {
        "id": "bOCtoySruCWQ"
      }
    },
    {
      "cell_type": "code",
      "source": [
        "data = binary_class_dataset.to_numpy()\n",
        "x = data[:, :-1].astype(int)\n",
        "y = data[:, -1].astype(int)"
      ],
      "metadata": {
        "id": "NrcDBsS_ocp8"
      },
      "execution_count": 8,
      "outputs": []
    },
    {
      "cell_type": "markdown",
      "source": [
        "### ML Models\n",
        "In this section we train and validate the three models which have been already mentioned above for what concerns binary classification"
      ],
      "metadata": {
        "id": "V96qNns2scXL"
      }
    },
    {
      "cell_type": "markdown",
      "source": [
        "#### Bernoulli Naive Bayes"
      ],
      "metadata": {
        "id": "txvyYDALsemX"
      }
    },
    {
      "cell_type": "code",
      "source": [
        "bern_na_bay = BernoulliNB()\n",
        "\n",
        "scores = cross_val_score(bern_na_bay, x, y, cv=10)\n",
        "print(scores.mean())\n",
        "\n",
        "x_train, x_test, y_train, y_test = train_test_split(x, y, test_size=0.2, random_state=75)\n",
        "bern_na_bay.fit(x_train, y_train)\n",
        "\n",
        "predict=bern_na_bay.predict(x_test) \n",
        "\n",
        "print('precision: ' + str(precision_score(predict, y_test, average='weighted')))\n",
        "print('recall: ' + str(recall_score(predict, y_test, average='weighted')))\n",
        "print('f1-score: ' + str(f1_score(predict, y_test, average='weighted')))\n",
        "print('accuracy: ' + str(accuracy_score(predict, y_test)))"
      ],
      "metadata": {
        "id": "dng-Le5Qoyby",
        "colab": {
          "base_uri": "https://localhost:8080/"
        },
        "outputId": "8cdae64b-1ed6-4afd-898e-5963ab93bbf1"
      },
      "execution_count": null,
      "outputs": [
        {
          "output_type": "stream",
          "name": "stdout",
          "text": [
            "0.9978857227225749\n",
            "precision: 0.9981160758419368\n",
            "recall: 0.9980787704130644\n",
            "f1-score: 0.998087165186208\n",
            "accuracy: 0.9980787704130644\n"
          ]
        }
      ]
    },
    {
      "cell_type": "markdown",
      "source": [
        "#### K-Nearest Neighbors"
      ],
      "metadata": {
        "id": "DFBAh0pMsg4N"
      }
    },
    {
      "cell_type": "code",
      "source": [
        "knn = KNeighborsClassifier(n_neighbors=3)\n",
        "\n",
        "scores = cross_val_score(knn, x, y, cv=10)\n",
        "print(scores.mean())\n",
        "\n",
        "x_train, x_test, y_train, y_test = train_test_split(x, y, test_size=0.2, random_state=75)\n",
        "knn.fit(x_train, y_train)\n",
        "\n",
        "predict=knn.predict(x_test) \n",
        "\n",
        "print('precision: ' + str(precision_score(predict, y_test, average='weighted')))\n",
        "print('recall: ' + str(recall_score(predict, y_test, average='weighted')))\n",
        "print('f1-score: ' + str(f1_score(predict, y_test, average='weighted')))\n",
        "print('accuracy: ' + str(accuracy_score(predict, y_test)))"
      ],
      "metadata": {
        "colab": {
          "base_uri": "https://localhost:8080/"
        },
        "id": "K8ZxnGh9p0PO",
        "outputId": "b1b448fb-a9ba-46f8-ac2c-a5e4a5676de4"
      },
      "execution_count": null,
      "outputs": [
        {
          "output_type": "stream",
          "name": "stdout",
          "text": [
            "0.9969241842610364\n",
            "precision: 0.9980828668514158\n",
            "recall: 0.9980787704130644\n",
            "f1-score: 0.9980705589349123\n",
            "accuracy: 0.9980787704130644\n"
          ]
        }
      ]
    },
    {
      "cell_type": "markdown",
      "source": [
        "#### Random Forest"
      ],
      "metadata": {
        "id": "MWWmhB3jsj34"
      }
    },
    {
      "cell_type": "code",
      "source": [
        "rand_for_classifier=RandomForestClassifier()\n",
        "\n",
        "scores = cross_val_score(rand_for_classifier, x, y, cv=10)\n",
        "print(scores.mean())\n",
        "\n",
        "x_train, x_test, y_train, y_test = train_test_split(x, y, test_size=0.2, random_state=75)\n",
        "rand_for_classifier.fit(x_train, y_train)\n",
        "\n",
        "predict=rand_for_classifier.predict(x_test) \n",
        "\n",
        "print('precision: ' + str(precision_score(predict, y_test, average='weighted')))\n",
        "print('recall: ' + str(recall_score(predict, y_test, average='weighted')))\n",
        "print('f1-score: ' + str(f1_score(predict, y_test, average='weighted')))\n",
        "print('accuracy: ' + str(accuracy_score(predict, y_test)))"
      ],
      "metadata": {
        "colab": {
          "base_uri": "https://localhost:8080/"
        },
        "id": "z0efW3nlwYxk",
        "outputId": "c6ada75b-b8ad-4ca4-e605-fa61b6ff5e60"
      },
      "execution_count": null,
      "outputs": [
        {
          "output_type": "stream",
          "name": "stdout",
          "text": [
            "0.9992311383434224\n",
            "precision: 1.0\n",
            "recall: 1.0\n",
            "f1-score: 1.0\n",
            "accuracy: 1.0\n"
          ]
        }
      ]
    },
    {
      "cell_type": "markdown",
      "source": [
        "## Neural Network"
      ],
      "metadata": {
        "id": "cc9_47jk98ZY"
      }
    },
    {
      "cell_type": "code",
      "source": [
        "x_train_ours, x_test_ours, y_train_ours, y_test_ours = train_test_split(x, y, test_size=0.2)\n",
        "\n",
        "model = Sequential()\n",
        "model.add(Dense(512, input_dim=48, activation = \"relu\"))\n",
        "model.add(Dense(256, activation = \"relu\"))\n",
        "model.add(Dense(128, activation = \"relu\"))\n",
        "model.add(Dropout(0.2))\n",
        "model.add(Dense(1, activation = \"softmax\"))\n",
        "model.compile(loss='binary_crossentropy', optimizer='adam', metrics=['accuracy', TopKCategoricalAccuracy(k=2)])\n",
        "model.summary()\n",
        "model.fit(x_train_ours, y_train_ours, verbose=1, epochs=100, batch_size=10)\n",
        "\n",
        "predict_x=model.predict(x_test_ours)\n",
        "\n",
        "print('precision: ' + str(precision_score(predict_x, y_test_ours, average='weighted')))\n",
        "print('recall: ' + str(recall_score(predict_x, y_test_ours, average='weighted')))\n",
        "print('f1-score: ' + str(f1_score(predict_x, y_test_ours, average='weighted')))\n",
        "print('accuracy: ' + str(accuracy_score(predict_x, y_test_ours)))"
      ],
      "metadata": {
        "colab": {
          "base_uri": "https://localhost:8080/"
        },
        "id": "iHD2a2_gHYoP",
        "outputId": "b76cb9fe-5410-4826-ae5b-1eb00e98926f"
      },
      "execution_count": 13,
      "outputs": [
        {
          "output_type": "stream",
          "name": "stdout",
          "text": [
            "Model: \"sequential_4\"\n",
            "_________________________________________________________________\n",
            " Layer (type)                Output Shape              Param #   \n",
            "=================================================================\n",
            " dense_16 (Dense)            (None, 512)               25088     \n",
            "                                                                 \n",
            " dense_17 (Dense)            (None, 256)               131328    \n",
            "                                                                 \n",
            " dense_18 (Dense)            (None, 128)               32896     \n",
            "                                                                 \n",
            " dropout_4 (Dropout)         (None, 128)               0         \n",
            "                                                                 \n",
            " dense_19 (Dense)            (None, 1)                 129       \n",
            "                                                                 \n",
            "=================================================================\n",
            "Total params: 189,441\n",
            "Trainable params: 189,441\n",
            "Non-trainable params: 0\n",
            "_________________________________________________________________\n",
            "Epoch 1/100\n",
            "417/417 [==============================] - 5s 7ms/step - loss: 0.0272 - accuracy: 0.9101 - top_k_categorical_accuracy: 1.0000\n",
            "Epoch 2/100\n",
            "417/417 [==============================] - 3s 7ms/step - loss: 0.0023 - accuracy: 0.9101 - top_k_categorical_accuracy: 1.0000\n",
            "Epoch 3/100\n",
            "417/417 [==============================] - 3s 6ms/step - loss: 0.0023 - accuracy: 0.9101 - top_k_categorical_accuracy: 1.0000\n",
            "Epoch 4/100\n",
            "417/417 [==============================] - 2s 4ms/step - loss: 0.0044 - accuracy: 0.9101 - top_k_categorical_accuracy: 1.0000\n",
            "Epoch 5/100\n",
            "417/417 [==============================] - 2s 4ms/step - loss: 0.0032 - accuracy: 0.9101 - top_k_categorical_accuracy: 1.0000\n",
            "Epoch 6/100\n",
            "417/417 [==============================] - 2s 4ms/step - loss: 0.0016 - accuracy: 0.9101 - top_k_categorical_accuracy: 1.0000\n",
            "Epoch 7/100\n",
            "417/417 [==============================] - 2s 4ms/step - loss: 0.0018 - accuracy: 0.9101 - top_k_categorical_accuracy: 1.0000\n",
            "Epoch 8/100\n",
            "417/417 [==============================] - 2s 4ms/step - loss: 0.0019 - accuracy: 0.9101 - top_k_categorical_accuracy: 1.0000\n",
            "Epoch 9/100\n",
            "417/417 [==============================] - 2s 4ms/step - loss: 0.0015 - accuracy: 0.9101 - top_k_categorical_accuracy: 1.0000\n",
            "Epoch 10/100\n",
            "417/417 [==============================] - 2s 4ms/step - loss: 0.0018 - accuracy: 0.9101 - top_k_categorical_accuracy: 1.0000\n",
            "Epoch 11/100\n",
            "417/417 [==============================] - 2s 4ms/step - loss: 0.0017 - accuracy: 0.9101 - top_k_categorical_accuracy: 1.0000\n",
            "Epoch 12/100\n",
            "417/417 [==============================] - 2s 4ms/step - loss: 0.0015 - accuracy: 0.9101 - top_k_categorical_accuracy: 1.0000\n",
            "Epoch 13/100\n",
            "417/417 [==============================] - 2s 4ms/step - loss: 0.0020 - accuracy: 0.9101 - top_k_categorical_accuracy: 1.0000\n",
            "Epoch 14/100\n",
            "417/417 [==============================] - 2s 4ms/step - loss: 0.0017 - accuracy: 0.9101 - top_k_categorical_accuracy: 1.0000\n",
            "Epoch 15/100\n",
            "417/417 [==============================] - 2s 4ms/step - loss: 0.0054 - accuracy: 0.9101 - top_k_categorical_accuracy: 1.0000\n",
            "Epoch 16/100\n",
            "417/417 [==============================] - 2s 4ms/step - loss: 0.0079 - accuracy: 0.9101 - top_k_categorical_accuracy: 1.0000\n",
            "Epoch 17/100\n",
            "417/417 [==============================] - 2s 4ms/step - loss: 0.0016 - accuracy: 0.9101 - top_k_categorical_accuracy: 1.0000\n",
            "Epoch 18/100\n",
            "417/417 [==============================] - 2s 4ms/step - loss: 0.0017 - accuracy: 0.9101 - top_k_categorical_accuracy: 1.0000\n",
            "Epoch 19/100\n",
            "417/417 [==============================] - 2s 4ms/step - loss: 0.0014 - accuracy: 0.9101 - top_k_categorical_accuracy: 1.0000\n",
            "Epoch 20/100\n",
            "417/417 [==============================] - 2s 4ms/step - loss: 0.0014 - accuracy: 0.9101 - top_k_categorical_accuracy: 1.0000\n",
            "Epoch 21/100\n",
            "417/417 [==============================] - 2s 4ms/step - loss: 0.0015 - accuracy: 0.9101 - top_k_categorical_accuracy: 1.0000\n",
            "Epoch 22/100\n",
            "417/417 [==============================] - 2s 4ms/step - loss: 0.0013 - accuracy: 0.9101 - top_k_categorical_accuracy: 1.0000\n",
            "Epoch 23/100\n",
            "417/417 [==============================] - 2s 4ms/step - loss: 0.0013 - accuracy: 0.9101 - top_k_categorical_accuracy: 1.0000\n",
            "Epoch 24/100\n",
            "417/417 [==============================] - 2s 4ms/step - loss: 0.0018 - accuracy: 0.9101 - top_k_categorical_accuracy: 1.0000\n",
            "Epoch 25/100\n",
            "417/417 [==============================] - 2s 4ms/step - loss: 0.0013 - accuracy: 0.9101 - top_k_categorical_accuracy: 1.0000\n",
            "Epoch 26/100\n",
            "417/417 [==============================] - 2s 4ms/step - loss: 0.0018 - accuracy: 0.9101 - top_k_categorical_accuracy: 1.0000\n",
            "Epoch 27/100\n",
            "417/417 [==============================] - 2s 4ms/step - loss: 0.0016 - accuracy: 0.9101 - top_k_categorical_accuracy: 1.0000\n",
            "Epoch 28/100\n",
            "417/417 [==============================] - 2s 4ms/step - loss: 0.0016 - accuracy: 0.9101 - top_k_categorical_accuracy: 1.0000\n",
            "Epoch 29/100\n",
            "417/417 [==============================] - 2s 4ms/step - loss: 0.0015 - accuracy: 0.9101 - top_k_categorical_accuracy: 1.0000\n",
            "Epoch 30/100\n",
            "417/417 [==============================] - 2s 4ms/step - loss: 0.0016 - accuracy: 0.9101 - top_k_categorical_accuracy: 1.0000\n",
            "Epoch 31/100\n",
            "417/417 [==============================] - 2s 4ms/step - loss: 0.0015 - accuracy: 0.9101 - top_k_categorical_accuracy: 1.0000\n",
            "Epoch 32/100\n",
            "417/417 [==============================] - 2s 4ms/step - loss: 0.0015 - accuracy: 0.9101 - top_k_categorical_accuracy: 1.0000\n",
            "Epoch 33/100\n",
            "417/417 [==============================] - 2s 4ms/step - loss: 0.0017 - accuracy: 0.9101 - top_k_categorical_accuracy: 1.0000\n",
            "Epoch 34/100\n",
            "417/417 [==============================] - 2s 4ms/step - loss: 0.0016 - accuracy: 0.9101 - top_k_categorical_accuracy: 1.0000\n",
            "Epoch 35/100\n",
            "417/417 [==============================] - 2s 4ms/step - loss: 0.0015 - accuracy: 0.9101 - top_k_categorical_accuracy: 1.0000\n",
            "Epoch 36/100\n",
            "417/417 [==============================] - 2s 4ms/step - loss: 0.0015 - accuracy: 0.9101 - top_k_categorical_accuracy: 1.0000\n",
            "Epoch 37/100\n",
            "417/417 [==============================] - 2s 4ms/step - loss: 0.0023 - accuracy: 0.9101 - top_k_categorical_accuracy: 1.0000\n",
            "Epoch 38/100\n",
            "417/417 [==============================] - 2s 5ms/step - loss: 0.0042 - accuracy: 0.9101 - top_k_categorical_accuracy: 1.0000\n",
            "Epoch 39/100\n",
            "417/417 [==============================] - 2s 4ms/step - loss: 0.0038 - accuracy: 0.9101 - top_k_categorical_accuracy: 1.0000\n",
            "Epoch 40/100\n",
            "417/417 [==============================] - 2s 4ms/step - loss: 0.0011 - accuracy: 0.9101 - top_k_categorical_accuracy: 1.0000\n",
            "Epoch 41/100\n",
            "417/417 [==============================] - 2s 4ms/step - loss: 0.0018 - accuracy: 0.9101 - top_k_categorical_accuracy: 1.0000\n",
            "Epoch 42/100\n",
            "417/417 [==============================] - 2s 4ms/step - loss: 0.0016 - accuracy: 0.9101 - top_k_categorical_accuracy: 1.0000\n",
            "Epoch 43/100\n",
            "417/417 [==============================] - 2s 4ms/step - loss: 0.0014 - accuracy: 0.9101 - top_k_categorical_accuracy: 1.0000\n",
            "Epoch 44/100\n",
            "417/417 [==============================] - 2s 4ms/step - loss: 0.0016 - accuracy: 0.9101 - top_k_categorical_accuracy: 1.0000\n",
            "Epoch 45/100\n",
            "417/417 [==============================] - 2s 4ms/step - loss: 0.0016 - accuracy: 0.9101 - top_k_categorical_accuracy: 1.0000\n",
            "Epoch 46/100\n",
            "417/417 [==============================] - 2s 4ms/step - loss: 0.0014 - accuracy: 0.9101 - top_k_categorical_accuracy: 1.0000\n",
            "Epoch 47/100\n",
            "417/417 [==============================] - 2s 4ms/step - loss: 0.0014 - accuracy: 0.9101 - top_k_categorical_accuracy: 1.0000\n",
            "Epoch 48/100\n",
            "417/417 [==============================] - 2s 4ms/step - loss: 0.0016 - accuracy: 0.9101 - top_k_categorical_accuracy: 1.0000\n",
            "Epoch 49/100\n",
            "417/417 [==============================] - 2s 4ms/step - loss: 0.0014 - accuracy: 0.9101 - top_k_categorical_accuracy: 1.0000\n",
            "Epoch 50/100\n",
            "417/417 [==============================] - 2s 4ms/step - loss: 0.0012 - accuracy: 0.9101 - top_k_categorical_accuracy: 1.0000\n",
            "Epoch 51/100\n",
            "417/417 [==============================] - 2s 4ms/step - loss: 0.0015 - accuracy: 0.9101 - top_k_categorical_accuracy: 1.0000\n",
            "Epoch 52/100\n",
            "417/417 [==============================] - 2s 4ms/step - loss: 0.0015 - accuracy: 0.9101 - top_k_categorical_accuracy: 1.0000\n",
            "Epoch 53/100\n",
            "417/417 [==============================] - 2s 4ms/step - loss: 0.0011 - accuracy: 0.9101 - top_k_categorical_accuracy: 1.0000\n",
            "Epoch 54/100\n",
            "417/417 [==============================] - 2s 4ms/step - loss: 0.0016 - accuracy: 0.9101 - top_k_categorical_accuracy: 1.0000\n",
            "Epoch 55/100\n",
            "417/417 [==============================] - 2s 4ms/step - loss: 0.0013 - accuracy: 0.9101 - top_k_categorical_accuracy: 1.0000\n",
            "Epoch 56/100\n",
            "417/417 [==============================] - 2s 4ms/step - loss: 0.0016 - accuracy: 0.9101 - top_k_categorical_accuracy: 1.0000\n",
            "Epoch 57/100\n",
            "417/417 [==============================] - 2s 4ms/step - loss: 0.0017 - accuracy: 0.9101 - top_k_categorical_accuracy: 1.0000\n",
            "Epoch 58/100\n",
            "417/417 [==============================] - 2s 4ms/step - loss: 0.0015 - accuracy: 0.9101 - top_k_categorical_accuracy: 1.0000\n",
            "Epoch 59/100\n",
            "417/417 [==============================] - 2s 4ms/step - loss: 0.0014 - accuracy: 0.9101 - top_k_categorical_accuracy: 1.0000\n",
            "Epoch 60/100\n",
            "417/417 [==============================] - 2s 4ms/step - loss: 0.0015 - accuracy: 0.9101 - top_k_categorical_accuracy: 1.0000\n",
            "Epoch 61/100\n",
            "417/417 [==============================] - 2s 4ms/step - loss: 0.0011 - accuracy: 0.9101 - top_k_categorical_accuracy: 1.0000\n",
            "Epoch 62/100\n",
            "417/417 [==============================] - 2s 4ms/step - loss: 0.0016 - accuracy: 0.9101 - top_k_categorical_accuracy: 1.0000\n",
            "Epoch 63/100\n",
            "417/417 [==============================] - 2s 4ms/step - loss: 0.0014 - accuracy: 0.9101 - top_k_categorical_accuracy: 1.0000\n",
            "Epoch 64/100\n",
            "417/417 [==============================] - 2s 4ms/step - loss: 0.0015 - accuracy: 0.9101 - top_k_categorical_accuracy: 1.0000\n",
            "Epoch 65/100\n",
            "417/417 [==============================] - 2s 4ms/step - loss: 0.0014 - accuracy: 0.9101 - top_k_categorical_accuracy: 1.0000\n",
            "Epoch 66/100\n",
            "417/417 [==============================] - 2s 4ms/step - loss: 0.0018 - accuracy: 0.9101 - top_k_categorical_accuracy: 1.0000\n",
            "Epoch 67/100\n",
            "417/417 [==============================] - 2s 6ms/step - loss: 0.0014 - accuracy: 0.9101 - top_k_categorical_accuracy: 1.0000\n",
            "Epoch 68/100\n",
            "417/417 [==============================] - 2s 4ms/step - loss: 0.0016 - accuracy: 0.9101 - top_k_categorical_accuracy: 1.0000\n",
            "Epoch 69/100\n",
            "417/417 [==============================] - 2s 4ms/step - loss: 0.0021 - accuracy: 0.9101 - top_k_categorical_accuracy: 1.0000\n",
            "Epoch 70/100\n",
            "417/417 [==============================] - 2s 4ms/step - loss: 0.0014 - accuracy: 0.9101 - top_k_categorical_accuracy: 1.0000\n",
            "Epoch 71/100\n",
            "417/417 [==============================] - 2s 4ms/step - loss: 0.0024 - accuracy: 0.9101 - top_k_categorical_accuracy: 1.0000\n",
            "Epoch 72/100\n",
            "417/417 [==============================] - 2s 4ms/step - loss: 0.0017 - accuracy: 0.9101 - top_k_categorical_accuracy: 1.0000\n",
            "Epoch 73/100\n",
            "417/417 [==============================] - 2s 4ms/step - loss: 0.0038 - accuracy: 0.9101 - top_k_categorical_accuracy: 1.0000\n",
            "Epoch 74/100\n",
            "417/417 [==============================] - 2s 4ms/step - loss: 0.0027 - accuracy: 0.9101 - top_k_categorical_accuracy: 1.0000\n",
            "Epoch 75/100\n",
            "417/417 [==============================] - 2s 4ms/step - loss: 0.0108 - accuracy: 0.9101 - top_k_categorical_accuracy: 1.0000\n",
            "Epoch 76/100\n",
            "417/417 [==============================] - 2s 4ms/step - loss: 0.0014 - accuracy: 0.9101 - top_k_categorical_accuracy: 1.0000\n",
            "Epoch 77/100\n",
            "417/417 [==============================] - 2s 4ms/step - loss: 0.0015 - accuracy: 0.9101 - top_k_categorical_accuracy: 1.0000\n",
            "Epoch 78/100\n",
            "417/417 [==============================] - 2s 4ms/step - loss: 0.0014 - accuracy: 0.9101 - top_k_categorical_accuracy: 1.0000\n",
            "Epoch 79/100\n",
            "417/417 [==============================] - 2s 4ms/step - loss: 0.0014 - accuracy: 0.9101 - top_k_categorical_accuracy: 1.0000\n",
            "Epoch 80/100\n",
            "417/417 [==============================] - 2s 4ms/step - loss: 0.0015 - accuracy: 0.9101 - top_k_categorical_accuracy: 1.0000\n",
            "Epoch 81/100\n",
            "417/417 [==============================] - 2s 4ms/step - loss: 0.0014 - accuracy: 0.9101 - top_k_categorical_accuracy: 1.0000\n",
            "Epoch 82/100\n",
            "417/417 [==============================] - 2s 4ms/step - loss: 0.0014 - accuracy: 0.9101 - top_k_categorical_accuracy: 1.0000\n",
            "Epoch 83/100\n",
            "417/417 [==============================] - 2s 4ms/step - loss: 0.0014 - accuracy: 0.9101 - top_k_categorical_accuracy: 1.0000\n",
            "Epoch 84/100\n",
            "417/417 [==============================] - 2s 4ms/step - loss: 0.0015 - accuracy: 0.9101 - top_k_categorical_accuracy: 1.0000\n",
            "Epoch 85/100\n",
            "417/417 [==============================] - 2s 4ms/step - loss: 0.0017 - accuracy: 0.9101 - top_k_categorical_accuracy: 1.0000\n",
            "Epoch 86/100\n",
            "417/417 [==============================] - 2s 4ms/step - loss: 0.0014 - accuracy: 0.9101 - top_k_categorical_accuracy: 1.0000\n",
            "Epoch 87/100\n",
            "417/417 [==============================] - 2s 4ms/step - loss: 0.0014 - accuracy: 0.9101 - top_k_categorical_accuracy: 1.0000\n",
            "Epoch 88/100\n",
            "417/417 [==============================] - 2s 4ms/step - loss: 0.0014 - accuracy: 0.9101 - top_k_categorical_accuracy: 1.0000\n",
            "Epoch 89/100\n",
            "417/417 [==============================] - 2s 4ms/step - loss: 0.0015 - accuracy: 0.9101 - top_k_categorical_accuracy: 1.0000\n",
            "Epoch 90/100\n",
            "417/417 [==============================] - 2s 4ms/step - loss: 0.0015 - accuracy: 0.9101 - top_k_categorical_accuracy: 1.0000\n",
            "Epoch 91/100\n",
            "417/417 [==============================] - 2s 4ms/step - loss: 0.0015 - accuracy: 0.9101 - top_k_categorical_accuracy: 1.0000\n",
            "Epoch 92/100\n",
            "417/417 [==============================] - 2s 4ms/step - loss: 0.0015 - accuracy: 0.9101 - top_k_categorical_accuracy: 1.0000\n",
            "Epoch 93/100\n",
            "417/417 [==============================] - 2s 4ms/step - loss: 0.0013 - accuracy: 0.9101 - top_k_categorical_accuracy: 1.0000\n",
            "Epoch 94/100\n",
            "417/417 [==============================] - 2s 4ms/step - loss: 0.0016 - accuracy: 0.9101 - top_k_categorical_accuracy: 1.0000\n",
            "Epoch 95/100\n",
            "417/417 [==============================] - 2s 4ms/step - loss: 0.0015 - accuracy: 0.9101 - top_k_categorical_accuracy: 1.0000\n",
            "Epoch 96/100\n",
            "417/417 [==============================] - 2s 4ms/step - loss: 0.0014 - accuracy: 0.9101 - top_k_categorical_accuracy: 1.0000\n",
            "Epoch 97/100\n",
            "417/417 [==============================] - 2s 4ms/step - loss: 0.0014 - accuracy: 0.9101 - top_k_categorical_accuracy: 1.0000\n",
            "Epoch 98/100\n",
            "417/417 [==============================] - 2s 4ms/step - loss: 0.0016 - accuracy: 0.9101 - top_k_categorical_accuracy: 1.0000\n",
            "Epoch 99/100\n",
            "417/417 [==============================] - 2s 4ms/step - loss: 0.0016 - accuracy: 0.9101 - top_k_categorical_accuracy: 1.0000\n",
            "Epoch 100/100\n",
            "417/417 [==============================] - 2s 4ms/step - loss: 0.0013 - accuracy: 0.9101 - top_k_categorical_accuracy: 1.0000\n",
            "precision: 1.0\n",
            "recall: 0.9269932756964457\n",
            "f1-score: 0.9621136590229312\n",
            "accuracy: 0.9269932756964457\n"
          ]
        },
        {
          "output_type": "stream",
          "name": "stderr",
          "text": [
            "/usr/local/lib/python3.7/dist-packages/sklearn/metrics/_classification.py:1318: UndefinedMetricWarning: Recall is ill-defined and being set to 0.0 in labels with no true samples. Use `zero_division` parameter to control this behavior.\n",
            "  _warn_prf(average, modifier, msg_start, len(result))\n"
          ]
        }
      ]
    }
  ]
}